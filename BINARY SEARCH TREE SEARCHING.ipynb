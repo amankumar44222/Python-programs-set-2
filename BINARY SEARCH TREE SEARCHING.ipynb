{
 "cells": [
  {
   "cell_type": "code",
   "execution_count": 2,
   "metadata": {},
   "outputs": [
    {
     "name": "stdout",
     "output_type": "stream",
     "text": [
      "No\n"
     ]
    }
   ],
   "source": [
    "# THIS IS THE PROGRAM TO SEARCH IN BINARY TREE\n",
    "\n",
    "\n",
    "\n",
    "class newNode:  \n",
    "    def __init__(self, data):  \n",
    "        self.data = data  \n",
    "        self.left = None\n",
    "        self.right = None  \n",
    "def iterativeSearch(root, key): \n",
    "    while root != None:   \n",
    "        if key > root.data:  \n",
    "            root = root.right  \n",
    "        elif key < root.data: \n",
    "            root = root.left  \n",
    "        else: \n",
    "            return True \n",
    "    return False  \n",
    "def insert(Node, data):   \n",
    "    if Node == None: \n",
    "        return newNode(data)    \n",
    "    if data < Node.data:  \n",
    "        Node.left = insert(Node.left, data)  \n",
    "    elif data > Node.data:  \n",
    "        Node.right = insert(Node.right, data)  \n",
    "    return Node \n",
    "if __name__ == '__main__':   \n",
    "    root = None\n",
    "    root = insert(root, 50)  \n",
    "    insert(root, 30)  \n",
    "    insert(root, 20)  \n",
    "    insert(root, 40)  \n",
    "    insert(root, 70)  \n",
    "    insert(root, 60)  \n",
    "    insert(root, 80) \n",
    "    if iterativeSearch(root, 15):  \n",
    "        print(\"Yes\")  \n",
    "    else: \n",
    "        print(\"No\")"
   ]
  },
  {
   "cell_type": "code",
   "execution_count": null,
   "metadata": {},
   "outputs": [],
   "source": []
  }
 ],
 "metadata": {
  "kernelspec": {
   "display_name": "Python 3",
   "language": "python",
   "name": "python3"
  },
  "language_info": {
   "codemirror_mode": {
    "name": "ipython",
    "version": 3
   },
   "file_extension": ".py",
   "mimetype": "text/x-python",
   "name": "python",
   "nbconvert_exporter": "python",
   "pygments_lexer": "ipython3",
   "version": "3.7.6"
  }
 },
 "nbformat": 4,
 "nbformat_minor": 4
}
